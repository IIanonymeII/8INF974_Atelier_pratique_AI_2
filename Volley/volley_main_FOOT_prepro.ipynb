{
  "cells": [
    {
      "cell_type": "code",
      "execution_count": 2,
      "metadata": {
        "colab": {
          "base_uri": "https://localhost:8080/"
        },
        "id": "LZ-ww7UieGda",
        "outputId": "8452c999-8ac1-4948-c191-896b1c77c3ff"
      },
      "outputs": [
        {
          "name": "stderr",
          "output_type": "stream",
          "text": [
            "C:\\Users\\User\\AppData\\Local\\Temp\\ipykernel_6044\\3703395270.py:2: DeprecationWarning: \n",
            "Pyarrow will become a required dependency of pandas in the next major release of pandas (pandas 3.0),\n",
            "(to allow more performant data types, such as the Arrow string type, and better interoperability with other libraries)\n",
            "but was not found to be installed on your system.\n",
            "If this would cause problems for you,\n",
            "please provide us feedback at https://github.com/pandas-dev/pandas/issues/54466\n",
            "        \n",
            "  import pandas as pd\n",
            "c:\\Python310\\lib\\site-packages\\scipy\\__init__.py:146: UserWarning: A NumPy version >=1.17.3 and <1.25.0 is required for this version of SciPy (detected version 1.26.3\n",
            "  warnings.warn(f\"A NumPy version >={np_minversion} and <{np_maxversion}\"\n"
          ]
        },
        {
          "name": "stdout",
          "output_type": "stream",
          "text": [
            "imported the needed libraries\n"
          ]
        }
      ],
      "source": [
        "import numpy as np\n",
        "import pandas as pd \n",
        "import matplotlib.pyplot as plt\n",
        "# import seaborn as sns\n",
        "from scipy import stats\n",
        "from sklearn.model_selection import train_test_split\n",
        "from sklearn.model_selection import cross_validate\n",
        "from sklearn.metrics import roc_auc_score, accuracy_score, precision_score, recall_score, f1_score\n",
        "from sklearn.linear_model import LogisticRegression\n",
        "from sklearn.tree import DecisionTreeClassifier\n",
        "from sklearn.svm import SVC,NuSVC,LinearSVC\n",
        "from sklearn.neighbors import KNeighborsClassifier\n",
        "from sklearn.ensemble import RandomForestClassifier\n",
        "from sklearn.naive_bayes import GaussianNB\n",
        "from sklearn.discriminant_analysis import LinearDiscriminantAnalysis, QuadraticDiscriminantAnalysis\n",
        "from sklearn import preprocessing\n",
        "from sklearn.pipeline import make_pipeline\n",
        "from sklearn.model_selection import ShuffleSplit\n",
        "from sklearn.model_selection import cross_val_score\n",
        "print(\"imported the needed libraries\")"
      ]
    },
    {
      "cell_type": "code",
      "execution_count": 3,
      "metadata": {
        "id": "T8x67pvyi-F1"
      },
      "outputs": [],
      "source": [
        "df = pd.read_csv(\"../Data/foot_for_volley_prepro.csv\")"
      ]
    },
    {
      "cell_type": "code",
      "execution_count": 4,
      "metadata": {
        "colab": {
          "base_uri": "https://localhost:8080/",
          "height": 292
        },
        "id": "VMMYfkVai-BB",
        "outputId": "6c2f3513-9782-412b-e5e8-a2f1d5f83fc8"
      },
      "outputs": [
        {
          "data": {
            "text/html": [
              "<div>\n",
              "<style scoped>\n",
              "    .dataframe tbody tr th:only-of-type {\n",
              "        vertical-align: middle;\n",
              "    }\n",
              "\n",
              "    .dataframe tbody tr th {\n",
              "        vertical-align: top;\n",
              "    }\n",
              "\n",
              "    .dataframe thead th {\n",
              "        text-align: right;\n",
              "    }\n",
              "</style>\n",
              "<table border=\"1\" class=\"dataframe\">\n",
              "  <thead>\n",
              "    <tr style=\"text-align: right;\">\n",
              "      <th></th>\n",
              "      <th>away_last_yr_pos</th>\n",
              "      <th>away_prev_game_perf</th>\n",
              "      <th>away_team_av_points</th>\n",
              "      <th>away_team_av_points_conceded</th>\n",
              "      <th>away_team_away_form</th>\n",
              "      <th>away_team_form</th>\n",
              "      <th>away_team_rest_time</th>\n",
              "      <th>away_win_percentage</th>\n",
              "      <th>h2h_form</th>\n",
              "      <th>home_current_pos</th>\n",
              "      <th>...</th>\n",
              "      <th>home_team_home_form</th>\n",
              "      <th>home_team_rest_time</th>\n",
              "      <th>home_win_percentage</th>\n",
              "      <th>match_importance</th>\n",
              "      <th>result</th>\n",
              "      <th>Date</th>\n",
              "      <th>away_team</th>\n",
              "      <th>home_team</th>\n",
              "      <th>month</th>\n",
              "      <th>year</th>\n",
              "    </tr>\n",
              "  </thead>\n",
              "  <tbody>\n",
              "    <tr>\n",
              "      <th>0</th>\n",
              "      <td>0</td>\n",
              "      <td>1.0</td>\n",
              "      <td>1.200000</td>\n",
              "      <td>0.900000</td>\n",
              "      <td>2.0</td>\n",
              "      <td>4.0</td>\n",
              "      <td>7.0</td>\n",
              "      <td>0.545455</td>\n",
              "      <td>0</td>\n",
              "      <td>0</td>\n",
              "      <td>...</td>\n",
              "      <td>5.0</td>\n",
              "      <td>7.0</td>\n",
              "      <td>0.928571</td>\n",
              "      <td>0</td>\n",
              "      <td>1</td>\n",
              "      <td>19</td>\n",
              "      <td>Newcastle</td>\n",
              "      <td>Chelsea</td>\n",
              "      <td>11</td>\n",
              "      <td>2005</td>\n",
              "    </tr>\n",
              "    <tr>\n",
              "      <th>1</th>\n",
              "      <td>0</td>\n",
              "      <td>1.0</td>\n",
              "      <td>0.454545</td>\n",
              "      <td>1.000000</td>\n",
              "      <td>1.0</td>\n",
              "      <td>1.0</td>\n",
              "      <td>7.0</td>\n",
              "      <td>0.333333</td>\n",
              "      <td>0</td>\n",
              "      <td>0</td>\n",
              "      <td>...</td>\n",
              "      <td>1.0</td>\n",
              "      <td>7.0</td>\n",
              "      <td>0.333333</td>\n",
              "      <td>0</td>\n",
              "      <td>1</td>\n",
              "      <td>19</td>\n",
              "      <td>Everton</td>\n",
              "      <td>West Brom</td>\n",
              "      <td>11</td>\n",
              "      <td>2005</td>\n",
              "    </tr>\n",
              "    <tr>\n",
              "      <th>2</th>\n",
              "      <td>0</td>\n",
              "      <td>0.0</td>\n",
              "      <td>1.500000</td>\n",
              "      <td>1.583333</td>\n",
              "      <td>1.0</td>\n",
              "      <td>3.0</td>\n",
              "      <td>7.0</td>\n",
              "      <td>0.461538</td>\n",
              "      <td>0</td>\n",
              "      <td>0</td>\n",
              "      <td>...</td>\n",
              "      <td>5.0</td>\n",
              "      <td>7.0</td>\n",
              "      <td>0.615385</td>\n",
              "      <td>0</td>\n",
              "      <td>1</td>\n",
              "      <td>26</td>\n",
              "      <td>Blackburn</td>\n",
              "      <td>Arsenal</td>\n",
              "      <td>11</td>\n",
              "      <td>2005</td>\n",
              "    </tr>\n",
              "    <tr>\n",
              "      <th>3</th>\n",
              "      <td>0</td>\n",
              "      <td>1.0</td>\n",
              "      <td>1.272727</td>\n",
              "      <td>0.818182</td>\n",
              "      <td>3.0</td>\n",
              "      <td>4.0</td>\n",
              "      <td>7.0</td>\n",
              "      <td>0.666667</td>\n",
              "      <td>0</td>\n",
              "      <td>0</td>\n",
              "      <td>...</td>\n",
              "      <td>3.0</td>\n",
              "      <td>7.0</td>\n",
              "      <td>0.333333</td>\n",
              "      <td>0</td>\n",
              "      <td>1</td>\n",
              "      <td>27</td>\n",
              "      <td>Bolton</td>\n",
              "      <td>Fulham</td>\n",
              "      <td>11</td>\n",
              "      <td>2005</td>\n",
              "    </tr>\n",
              "    <tr>\n",
              "      <th>4</th>\n",
              "      <td>0</td>\n",
              "      <td>1.0</td>\n",
              "      <td>2.000000</td>\n",
              "      <td>1.000000</td>\n",
              "      <td>4.0</td>\n",
              "      <td>3.0</td>\n",
              "      <td>7.0</td>\n",
              "      <td>0.818182</td>\n",
              "      <td>0</td>\n",
              "      <td>0</td>\n",
              "      <td>...</td>\n",
              "      <td>4.0</td>\n",
              "      <td>7.0</td>\n",
              "      <td>0.500000</td>\n",
              "      <td>0</td>\n",
              "      <td>0</td>\n",
              "      <td>27</td>\n",
              "      <td>Man United</td>\n",
              "      <td>West Ham</td>\n",
              "      <td>11</td>\n",
              "      <td>2005</td>\n",
              "    </tr>\n",
              "  </tbody>\n",
              "</table>\n",
              "<p>5 rows × 25 columns</p>\n",
              "</div>"
            ],
            "text/plain": [
              "   away_last_yr_pos  away_prev_game_perf  away_team_av_points  \\\n",
              "0                 0                  1.0             1.200000   \n",
              "1                 0                  1.0             0.454545   \n",
              "2                 0                  0.0             1.500000   \n",
              "3                 0                  1.0             1.272727   \n",
              "4                 0                  1.0             2.000000   \n",
              "\n",
              "   away_team_av_points_conceded  away_team_away_form  away_team_form  \\\n",
              "0                      0.900000                  2.0             4.0   \n",
              "1                      1.000000                  1.0             1.0   \n",
              "2                      1.583333                  1.0             3.0   \n",
              "3                      0.818182                  3.0             4.0   \n",
              "4                      1.000000                  4.0             3.0   \n",
              "\n",
              "   away_team_rest_time  away_win_percentage  h2h_form  home_current_pos  ...  \\\n",
              "0                  7.0             0.545455         0                 0  ...   \n",
              "1                  7.0             0.333333         0                 0  ...   \n",
              "2                  7.0             0.461538         0                 0  ...   \n",
              "3                  7.0             0.666667         0                 0  ...   \n",
              "4                  7.0             0.818182         0                 0  ...   \n",
              "\n",
              "   home_team_home_form  home_team_rest_time  home_win_percentage  \\\n",
              "0                  5.0                  7.0             0.928571   \n",
              "1                  1.0                  7.0             0.333333   \n",
              "2                  5.0                  7.0             0.615385   \n",
              "3                  3.0                  7.0             0.333333   \n",
              "4                  4.0                  7.0             0.500000   \n",
              "\n",
              "   match_importance  result  Date   away_team  home_team  month  year  \n",
              "0                 0       1    19   Newcastle    Chelsea     11  2005  \n",
              "1                 0       1    19     Everton  West Brom     11  2005  \n",
              "2                 0       1    26   Blackburn    Arsenal     11  2005  \n",
              "3                 0       1    27      Bolton     Fulham     11  2005  \n",
              "4                 0       0    27  Man United   West Ham     11  2005  \n",
              "\n",
              "[5 rows x 25 columns]"
            ]
          },
          "execution_count": 4,
          "metadata": {},
          "output_type": "execute_result"
        }
      ],
      "source": [
        "df.head()"
      ]
    },
    {
      "cell_type": "code",
      "execution_count": 5,
      "metadata": {
        "colab": {
          "base_uri": "https://localhost:8080/"
        },
        "id": "FCj2msO_i97x",
        "outputId": "40bafbce-741b-459e-959f-7912ff5208be"
      },
      "outputs": [
        {
          "name": "stdout",
          "output_type": "stream",
          "text": [
            "Index(['away_last_yr_pos', 'away_prev_game_perf', 'away_team_av_points',\n",
            "       'away_team_av_points_conceded', 'away_team_away_form', 'away_team_form',\n",
            "       'away_team_rest_time', 'away_win_percentage', 'h2h_form',\n",
            "       'home_current_pos', 'home_last_yr_pos', 'home_prev_game_perf',\n",
            "       'home_team_av_points', 'home_team_av_points_conceded', 'home_team_form',\n",
            "       'home_team_home_form', 'home_team_rest_time', 'home_win_percentage',\n",
            "       'match_importance', 'result', 'Date'],\n",
            "      dtype='object')\n",
            "21\n"
          ]
        }
      ],
      "source": [
        "df = df.iloc[:,0:21]\n",
        "print(df.columns)\n",
        "print(len(df.columns))"
      ]
    },
    {
      "cell_type": "code",
      "execution_count": 6,
      "metadata": {},
      "outputs": [
        {
          "data": {
            "text/html": [
              "<div>\n",
              "<style scoped>\n",
              "    .dataframe tbody tr th:only-of-type {\n",
              "        vertical-align: middle;\n",
              "    }\n",
              "\n",
              "    .dataframe tbody tr th {\n",
              "        vertical-align: top;\n",
              "    }\n",
              "\n",
              "    .dataframe thead th {\n",
              "        text-align: right;\n",
              "    }\n",
              "</style>\n",
              "<table border=\"1\" class=\"dataframe\">\n",
              "  <thead>\n",
              "    <tr style=\"text-align: right;\">\n",
              "      <th></th>\n",
              "      <th>away_last_yr_pos</th>\n",
              "      <th>away_prev_game_perf</th>\n",
              "      <th>away_team_av_points</th>\n",
              "      <th>away_team_av_points_conceded</th>\n",
              "      <th>away_team_away_form</th>\n",
              "      <th>away_team_form</th>\n",
              "      <th>away_team_rest_time</th>\n",
              "      <th>away_win_percentage</th>\n",
              "      <th>h2h_form</th>\n",
              "      <th>home_current_pos</th>\n",
              "      <th>...</th>\n",
              "      <th>home_prev_game_perf</th>\n",
              "      <th>home_team_av_points</th>\n",
              "      <th>home_team_av_points_conceded</th>\n",
              "      <th>home_team_form</th>\n",
              "      <th>home_team_home_form</th>\n",
              "      <th>home_team_rest_time</th>\n",
              "      <th>home_win_percentage</th>\n",
              "      <th>match_importance</th>\n",
              "      <th>result</th>\n",
              "      <th>Date</th>\n",
              "    </tr>\n",
              "  </thead>\n",
              "  <tbody>\n",
              "    <tr>\n",
              "      <th>0</th>\n",
              "      <td>0</td>\n",
              "      <td>1.0</td>\n",
              "      <td>1.200000</td>\n",
              "      <td>0.900000</td>\n",
              "      <td>2.0</td>\n",
              "      <td>4.0</td>\n",
              "      <td>7.0</td>\n",
              "      <td>0.545455</td>\n",
              "      <td>0</td>\n",
              "      <td>0</td>\n",
              "      <td>...</td>\n",
              "      <td>1.0</td>\n",
              "      <td>2.230769</td>\n",
              "      <td>0.461538</td>\n",
              "      <td>5.0</td>\n",
              "      <td>5.0</td>\n",
              "      <td>7.0</td>\n",
              "      <td>0.928571</td>\n",
              "      <td>0</td>\n",
              "      <td>1</td>\n",
              "      <td>19</td>\n",
              "    </tr>\n",
              "    <tr>\n",
              "      <th>1</th>\n",
              "      <td>0</td>\n",
              "      <td>1.0</td>\n",
              "      <td>0.454545</td>\n",
              "      <td>1.000000</td>\n",
              "      <td>1.0</td>\n",
              "      <td>1.0</td>\n",
              "      <td>7.0</td>\n",
              "      <td>0.333333</td>\n",
              "      <td>0</td>\n",
              "      <td>0</td>\n",
              "      <td>...</td>\n",
              "      <td>0.0</td>\n",
              "      <td>0.909091</td>\n",
              "      <td>1.909091</td>\n",
              "      <td>2.0</td>\n",
              "      <td>1.0</td>\n",
              "      <td>7.0</td>\n",
              "      <td>0.333333</td>\n",
              "      <td>0</td>\n",
              "      <td>1</td>\n",
              "      <td>19</td>\n",
              "    </tr>\n",
              "    <tr>\n",
              "      <th>2</th>\n",
              "      <td>0</td>\n",
              "      <td>0.0</td>\n",
              "      <td>1.500000</td>\n",
              "      <td>1.583333</td>\n",
              "      <td>1.0</td>\n",
              "      <td>3.0</td>\n",
              "      <td>7.0</td>\n",
              "      <td>0.461538</td>\n",
              "      <td>0</td>\n",
              "      <td>0</td>\n",
              "      <td>...</td>\n",
              "      <td>1.0</td>\n",
              "      <td>1.500000</td>\n",
              "      <td>1.000000</td>\n",
              "      <td>2.0</td>\n",
              "      <td>5.0</td>\n",
              "      <td>7.0</td>\n",
              "      <td>0.615385</td>\n",
              "      <td>0</td>\n",
              "      <td>1</td>\n",
              "      <td>26</td>\n",
              "    </tr>\n",
              "    <tr>\n",
              "      <th>3</th>\n",
              "      <td>0</td>\n",
              "      <td>1.0</td>\n",
              "      <td>1.272727</td>\n",
              "      <td>0.818182</td>\n",
              "      <td>3.0</td>\n",
              "      <td>4.0</td>\n",
              "      <td>7.0</td>\n",
              "      <td>0.666667</td>\n",
              "      <td>0</td>\n",
              "      <td>0</td>\n",
              "      <td>...</td>\n",
              "      <td>0.0</td>\n",
              "      <td>1.090909</td>\n",
              "      <td>1.636364</td>\n",
              "      <td>1.0</td>\n",
              "      <td>3.0</td>\n",
              "      <td>7.0</td>\n",
              "      <td>0.333333</td>\n",
              "      <td>0</td>\n",
              "      <td>1</td>\n",
              "      <td>27</td>\n",
              "    </tr>\n",
              "    <tr>\n",
              "      <th>4</th>\n",
              "      <td>0</td>\n",
              "      <td>1.0</td>\n",
              "      <td>2.000000</td>\n",
              "      <td>1.000000</td>\n",
              "      <td>4.0</td>\n",
              "      <td>3.0</td>\n",
              "      <td>7.0</td>\n",
              "      <td>0.818182</td>\n",
              "      <td>0</td>\n",
              "      <td>0</td>\n",
              "      <td>...</td>\n",
              "      <td>0.0</td>\n",
              "      <td>1.555556</td>\n",
              "      <td>1.444444</td>\n",
              "      <td>2.0</td>\n",
              "      <td>4.0</td>\n",
              "      <td>7.0</td>\n",
              "      <td>0.500000</td>\n",
              "      <td>0</td>\n",
              "      <td>0</td>\n",
              "      <td>27</td>\n",
              "    </tr>\n",
              "  </tbody>\n",
              "</table>\n",
              "<p>5 rows × 21 columns</p>\n",
              "</div>"
            ],
            "text/plain": [
              "   away_last_yr_pos  away_prev_game_perf  away_team_av_points  \\\n",
              "0                 0                  1.0             1.200000   \n",
              "1                 0                  1.0             0.454545   \n",
              "2                 0                  0.0             1.500000   \n",
              "3                 0                  1.0             1.272727   \n",
              "4                 0                  1.0             2.000000   \n",
              "\n",
              "   away_team_av_points_conceded  away_team_away_form  away_team_form  \\\n",
              "0                      0.900000                  2.0             4.0   \n",
              "1                      1.000000                  1.0             1.0   \n",
              "2                      1.583333                  1.0             3.0   \n",
              "3                      0.818182                  3.0             4.0   \n",
              "4                      1.000000                  4.0             3.0   \n",
              "\n",
              "   away_team_rest_time  away_win_percentage  h2h_form  home_current_pos  ...  \\\n",
              "0                  7.0             0.545455         0                 0  ...   \n",
              "1                  7.0             0.333333         0                 0  ...   \n",
              "2                  7.0             0.461538         0                 0  ...   \n",
              "3                  7.0             0.666667         0                 0  ...   \n",
              "4                  7.0             0.818182         0                 0  ...   \n",
              "\n",
              "   home_prev_game_perf  home_team_av_points  home_team_av_points_conceded  \\\n",
              "0                  1.0             2.230769                      0.461538   \n",
              "1                  0.0             0.909091                      1.909091   \n",
              "2                  1.0             1.500000                      1.000000   \n",
              "3                  0.0             1.090909                      1.636364   \n",
              "4                  0.0             1.555556                      1.444444   \n",
              "\n",
              "   home_team_form  home_team_home_form  home_team_rest_time  \\\n",
              "0             5.0                  5.0                  7.0   \n",
              "1             2.0                  1.0                  7.0   \n",
              "2             2.0                  5.0                  7.0   \n",
              "3             1.0                  3.0                  7.0   \n",
              "4             2.0                  4.0                  7.0   \n",
              "\n",
              "   home_win_percentage  match_importance  result  Date  \n",
              "0             0.928571                 0       1    19  \n",
              "1             0.333333                 0       1    19  \n",
              "2             0.615385                 0       1    26  \n",
              "3             0.333333                 0       1    27  \n",
              "4             0.500000                 0       0    27  \n",
              "\n",
              "[5 rows x 21 columns]"
            ]
          },
          "execution_count": 6,
          "metadata": {},
          "output_type": "execute_result"
        }
      ],
      "source": [
        "df.head()"
      ]
    },
    {
      "cell_type": "code",
      "execution_count": 7,
      "metadata": {
        "id": "jlfcHXgio5rL"
      },
      "outputs": [],
      "source": [
        "df = df.drop([\"away_team_rest_time\"], axis=1)\n",
        "# Due to high correlation with 'away_team_rest_time'"
      ]
    },
    {
      "cell_type": "code",
      "execution_count": 9,
      "metadata": {
        "id": "GsJzGFkyi92H"
      },
      "outputs": [],
      "source": [
        "y = df[\"result\"]\n",
        "X = df.drop([\"result\"], axis=1)\n",
        "\n",
        "X_train,X_test,y_train,y_test = train_test_split(X, y, test_size=0.2, random_state = 121)"
      ]
    },
    {
      "cell_type": "code",
      "execution_count": 10,
      "metadata": {
        "id": "plvtPHyvi9w7"
      },
      "outputs": [],
      "source": [
        "scaler = preprocessing.StandardScaler()\n",
        "scaler.fit(X_train)\n",
        "scaled_X_train = scaler.transform(X_train)\n",
        "scaled_X_test = scaler.transform(X_test)\n",
        "\n",
        "\n",
        "scaled_X_train = pd.DataFrame(data=scaled_X_train, columns=X_train.columns)\n",
        "scaled_X_test = pd.DataFrame(data=scaled_X_test, columns=X_test.columns)"
      ]
    },
    {
      "cell_type": "code",
      "execution_count": 11,
      "metadata": {
        "id": "QWFnmOPHi9p4"
      },
      "outputs": [],
      "source": [
        "cv = ShuffleSplit(n_splits=10, test_size=0.2, random_state=0)\n"
      ]
    },
    {
      "cell_type": "code",
      "execution_count": 12,
      "metadata": {
        "colab": {
          "base_uri": "https://localhost:8080/"
        },
        "id": "Ue4Su77ji9gw",
        "outputId": "e76824e2-d7c7-45bd-9942-ae02b55597cf"
      },
      "outputs": [
        {
          "data": {
            "text/plain": [
              "0.7214814814814815"
            ]
          },
          "execution_count": 12,
          "metadata": {},
          "output_type": "execute_result"
        }
      ],
      "source": [
        "LR = LogisticRegression()\n",
        "\n",
        "LR.fit(scaled_X_train,y_train)\n",
        "y_pred = LR.predict(scaled_X_test)\n",
        "y_train_pred = LR.predict(scaled_X_train)\n",
        "# accuracy_score(y_test,y_pred)\n",
        "\n",
        "LR_test_accuracy = accuracy_score(y_test, y_pred)\n",
        "LR_train_accuracy = accuracy_score(y_train,y_train_pred)\n",
        "LR_test_f1 = f1_score(y_test,y_pred)\n",
        "LR_train_f1 = f1_score(y_train,y_train_pred)\n",
        "LR_test_roc = roc_auc_score(y_test,y_pred)\n",
        "LR_train_roc = roc_auc_score(y_train,y_train_pred)\n",
        "LR_test_accuracy"
      ]
    },
    {
      "cell_type": "code",
      "execution_count": 13,
      "metadata": {
        "colab": {
          "base_uri": "https://localhost:8080/"
        },
        "id": "xXJA6qjri9cP",
        "outputId": "4da488c9-93ff-4877-c381-d1234d4b3835"
      },
      "outputs": [
        {
          "data": {
            "text/plain": [
              "0.6340740740740741"
            ]
          },
          "execution_count": 13,
          "metadata": {},
          "output_type": "execute_result"
        }
      ],
      "source": [
        "dtree = DecisionTreeClassifier()\n",
        "\n",
        "dtree.fit(scaled_X_train,y_train)\n",
        "y_pred = dtree.predict(scaled_X_test)\n",
        "y_train_pred = dtree.predict(scaled_X_train)\n",
        "# accuracy_score(y_test,y_pred)\n",
        "\n",
        "dtree_test_accuracy = accuracy_score(y_test, y_pred)\n",
        "dtree_train_accuracy = accuracy_score(y_train,y_train_pred)\n",
        "dtree_test_f1 = f1_score(y_test,y_pred)\n",
        "dtree_train_f1 = f1_score(y_train,y_train_pred)\n",
        "dtree_test_roc = roc_auc_score(y_test,y_pred)\n",
        "dtree_train_roc = roc_auc_score(y_train,y_train_pred)\n",
        "dtree_test_accuracy"
      ]
    },
    {
      "cell_type": "code",
      "execution_count": 14,
      "metadata": {
        "colab": {
          "base_uri": "https://localhost:8080/"
        },
        "id": "p4pHiHJvi9K5",
        "outputId": "d44623f1-df47-4ff1-917d-4197daf4eee8"
      },
      "outputs": [
        {
          "data": {
            "text/plain": [
              "0.72"
            ]
          },
          "execution_count": 14,
          "metadata": {},
          "output_type": "execute_result"
        }
      ],
      "source": [
        "SVM = SVC(probability = True)\n",
        "\n",
        "SVM.fit(scaled_X_train,y_train)\n",
        "y_pred = SVM.predict(scaled_X_test)\n",
        "y_train_pred = SVM.predict(scaled_X_train)\n",
        "# accuracy_score(y_test,y_pred)\n",
        "\n",
        "SVM_test_accuracy = accuracy_score(y_test, y_pred)\n",
        "SVM_train_accuracy = accuracy_score(y_train,y_train_pred)\n",
        "SVM_test_f1 = f1_score(y_test,y_pred)\n",
        "SVM_train_f1 = f1_score(y_train,y_train_pred)\n",
        "SVM_test_roc = roc_auc_score(y_test,y_pred)\n",
        "SVM_train_roc = roc_auc_score(y_train,y_train_pred)\n",
        "SVM_test_accuracy"
      ]
    },
    {
      "cell_type": "code",
      "execution_count": 15,
      "metadata": {
        "colab": {
          "base_uri": "https://localhost:8080/"
        },
        "id": "ftCEaeP5i9F2",
        "outputId": "eed7ca27-5a85-44b8-8644-2e27fa408cb6"
      },
      "outputs": [
        {
          "data": {
            "text/plain": [
              "0.7037037037037037"
            ]
          },
          "execution_count": 15,
          "metadata": {},
          "output_type": "execute_result"
        }
      ],
      "source": [
        "RForest = RandomForestClassifier()\n",
        "\n",
        "RForest.fit(scaled_X_train,y_train)\n",
        "y_pred = RForest.predict(scaled_X_test)\n",
        "y_train_pred = RForest.predict(scaled_X_train)\n",
        "# accuracy_score(y_test,y_pred)\n",
        "\n",
        "RForest_test_accuracy = accuracy_score(y_test, y_pred)\n",
        "RForest_train_accuracy = accuracy_score(y_train,y_train_pred)\n",
        "RForest_test_f1 = f1_score(y_test,y_pred)\n",
        "RForest_train_f1 = f1_score(y_train,y_train_pred)\n",
        "RForest_test_roc = roc_auc_score(y_test,y_pred)\n",
        "RForest_train_roc = roc_auc_score(y_train,y_train_pred)\n",
        "RForest_test_accuracy"
      ]
    },
    {
      "cell_type": "code",
      "execution_count": 16,
      "metadata": {
        "colab": {
          "base_uri": "https://localhost:8080/"
        },
        "id": "0fgjo6SJi8-c",
        "outputId": "405d89bb-6ae6-41e1-934c-e628c6dc548a"
      },
      "outputs": [
        {
          "data": {
            "text/plain": [
              "0.6785185185185185"
            ]
          },
          "execution_count": 16,
          "metadata": {},
          "output_type": "execute_result"
        }
      ],
      "source": [
        "KNN = KNeighborsClassifier()\n",
        "\n",
        "KNN.fit(scaled_X_train,y_train)\n",
        "y_pred = KNN.predict(scaled_X_test)\n",
        "y_train_pred = KNN.predict(scaled_X_train)\n",
        "# accuracy_score(y_test,y_pred)\n",
        "\n",
        "KNN_test_accuracy = accuracy_score(y_test, y_pred)\n",
        "KNN_train_accuracy = accuracy_score(y_train,y_train_pred)\n",
        "KNN_test_f1 = f1_score(y_test,y_pred)\n",
        "KNN_train_f1 = f1_score(y_train,y_train_pred)\n",
        "KNN_test_roc = roc_auc_score(y_test,y_pred)\n",
        "KNN_train_roc = roc_auc_score(y_train,y_train_pred)\n",
        "KNN_test_accuracy\n",
        "\n"
      ]
    },
    {
      "cell_type": "code",
      "execution_count": 17,
      "metadata": {
        "colab": {
          "base_uri": "https://localhost:8080/"
        },
        "id": "4j8g17aypQAp",
        "outputId": "33c9b1c9-c1fa-406e-838b-e0a552f1beb1"
      },
      "outputs": [
        {
          "data": {
            "text/plain": [
              "0.7022222222222222"
            ]
          },
          "execution_count": 17,
          "metadata": {},
          "output_type": "execute_result"
        }
      ],
      "source": [
        "bayes = GaussianNB()\n",
        "\n",
        "bayes.fit(scaled_X_train,y_train)\n",
        "y_pred = bayes.predict(scaled_X_test)\n",
        "y_train_pred = bayes.predict(scaled_X_train)\n",
        "# accuracy_score(y_test,y_pred)\n",
        "\n",
        "bayes_test_accuracy = accuracy_score(y_test, y_pred)\n",
        "bayes_train_accuracy = accuracy_score(y_train,y_train_pred)\n",
        "bayes_test_f1 = f1_score(y_test,y_pred)\n",
        "bayes_train_f1 = f1_score(y_train,y_train_pred)\n",
        "bayes_test_roc = roc_auc_score(y_test,y_pred)\n",
        "bayes_train_roc = roc_auc_score(y_train,y_train_pred)\n",
        "bayes_test_accuracy\n"
      ]
    },
    {
      "cell_type": "code",
      "execution_count": 18,
      "metadata": {
        "colab": {
          "base_uri": "https://localhost:8080/"
        },
        "id": "2IB_35oMpSY-",
        "outputId": "e7ea2bb3-6e1e-43a0-ec7e-c2f48c380963"
      },
      "outputs": [
        {
          "data": {
            "text/plain": [
              "0.7274074074074074"
            ]
          },
          "execution_count": 18,
          "metadata": {},
          "output_type": "execute_result"
        }
      ],
      "source": [
        "LDA = LinearDiscriminantAnalysis(solver='lsqr')\n",
        "\n",
        "LDA.fit(scaled_X_train,y_train)\n",
        "y_pred = LDA.predict(scaled_X_test)\n",
        "y_train_pred = LDA.predict(scaled_X_train)\n",
        "# accuracy_score(y_test,y_pred)\n",
        "\n",
        "LDA_test_accuracy = accuracy_score(y_test, y_pred)\n",
        "LDA_train_accuracy = accuracy_score(y_train,y_train_pred)\n",
        "LDA_test_f1 = f1_score(y_test,y_pred)\n",
        "LDA_train_f1 = f1_score(y_train,y_train_pred)\n",
        "LDA_test_roc = roc_auc_score(y_test,y_pred)\n",
        "LDA_train_roc = roc_auc_score(y_train,y_train_pred)\n",
        "LDA_test_accuracy\n",
        "\n"
      ]
    },
    {
      "cell_type": "code",
      "execution_count": 19,
      "metadata": {
        "colab": {
          "base_uri": "https://localhost:8080/"
        },
        "id": "OCvkYoR4pVU0",
        "outputId": "baf1e500-0bec-4196-ee66-36344678cfc4"
      },
      "outputs": [
        {
          "name": "stderr",
          "output_type": "stream",
          "text": [
            "C:\\Users\\User\\AppData\\Roaming\\Python\\Python310\\site-packages\\sklearn\\discriminant_analysis.py:935: UserWarning: Variables are collinear\n",
            "  warnings.warn(\"Variables are collinear\")\n",
            "C:\\Users\\User\\AppData\\Roaming\\Python\\Python310\\site-packages\\sklearn\\discriminant_analysis.py:960: RuntimeWarning: divide by zero encountered in power\n",
            "  X2 = np.dot(Xm, R * (S ** (-0.5)))\n",
            "C:\\Users\\User\\AppData\\Roaming\\Python\\Python310\\site-packages\\sklearn\\discriminant_analysis.py:960: RuntimeWarning: invalid value encountered in multiply\n",
            "  X2 = np.dot(Xm, R * (S ** (-0.5)))\n",
            "C:\\Users\\User\\AppData\\Roaming\\Python\\Python310\\site-packages\\sklearn\\discriminant_analysis.py:963: RuntimeWarning: divide by zero encountered in log\n",
            "  u = np.asarray([np.sum(np.log(s)) for s in self.scalings_])\n",
            "C:\\Users\\User\\AppData\\Roaming\\Python\\Python310\\site-packages\\sklearn\\discriminant_analysis.py:960: RuntimeWarning: divide by zero encountered in power\n",
            "  X2 = np.dot(Xm, R * (S ** (-0.5)))\n",
            "C:\\Users\\User\\AppData\\Roaming\\Python\\Python310\\site-packages\\sklearn\\discriminant_analysis.py:960: RuntimeWarning: invalid value encountered in multiply\n",
            "  X2 = np.dot(Xm, R * (S ** (-0.5)))\n",
            "C:\\Users\\User\\AppData\\Roaming\\Python\\Python310\\site-packages\\sklearn\\discriminant_analysis.py:963: RuntimeWarning: divide by zero encountered in log\n",
            "  u = np.asarray([np.sum(np.log(s)) for s in self.scalings_])\n"
          ]
        },
        {
          "data": {
            "text/plain": [
              "0.3674074074074074"
            ]
          },
          "execution_count": 19,
          "metadata": {},
          "output_type": "execute_result"
        }
      ],
      "source": [
        "QDA = QuadraticDiscriminantAnalysis()\n",
        "\n",
        "QDA.fit(scaled_X_train,y_train)\n",
        "y_pred = QDA.predict(scaled_X_test)\n",
        "y_train_pred = QDA.predict(scaled_X_train)\n",
        "# accuracy_score(y_test,y_pred)\n",
        "\n",
        "QDA_test_accuracy = accuracy_score(y_test, y_pred)\n",
        "QDA_train_accuracy = accuracy_score(y_train,y_train_pred)\n",
        "QDA_test_f1 = f1_score(y_test,y_pred)\n",
        "QDA_train_f1 = f1_score(y_train,y_train_pred)\n",
        "QDA_test_roc = roc_auc_score(y_test,y_pred)\n",
        "QDA_train_roc = roc_auc_score(y_train,y_train_pred)\n",
        "QDA_test_accuracy\n"
      ]
    },
    {
      "cell_type": "code",
      "execution_count": 20,
      "metadata": {
        "colab": {
          "base_uri": "https://localhost:8080/"
        },
        "id": "gPO_Y3FwpYAu",
        "outputId": "02245b6e-011f-4b93-d290-83d9204917a1"
      },
      "outputs": [
        {
          "data": {
            "text/plain": [
              "0.7214814814814815"
            ]
          },
          "execution_count": 20,
          "metadata": {},
          "output_type": "execute_result"
        }
      ],
      "source": [
        "from sklearn.neural_network import MLPClassifier\n",
        "\n",
        "# scoring = ['accuracy', 'precision_macro', 'recall_macro' , 'f1_weighted', 'roc_auc']\n",
        "# clf = make_pipeline(preprocessing.StandardScaler(), MLPClassifier(solver='adam', alpha=3e-4, hidden_layer_sizes=(10), random_state=1,max_iter=1000))\n",
        "# clf2 = make_pipeline(preprocessing.MinMaxScaler(), MLPClassifier(solver='adam', alpha=3e-4, hidden_layer_sizes=(10), random_state=1,max_iter=1000))\n",
        "\n",
        "# scores = cross_validate(clf, X, y, scoring=scoring, cv=cv, return_train_score = True)\n",
        "# scores2 = cross_validate(clf2, X, y, scoring=scoring, cv=cv, return_train_score = True)\n",
        "\n",
        "MLP = MLPClassifier(solver='adam',learning_rate = 'adaptive',hidden_layer_sizes=(5), random_state=202,max_iter=300,activation = 'tanh')\n",
        "\n",
        "MLP.fit(scaled_X_train,y_train)\n",
        "y_pred = MLP.predict(scaled_X_test)\n",
        "y_train_pred = MLP.predict(scaled_X_train)\n",
        "# accuracy_score(y_test,y_pred)\n",
        "\n",
        "MLP_test_accuracy = accuracy_score(y_test, y_pred)\n",
        "MLP_train_accuracy = accuracy_score(y_train,y_train_pred)\n",
        "MLP_test_f1 = f1_score(y_test,y_pred)\n",
        "MLP_train_f1 = f1_score(y_train,y_train_pred)\n",
        "MLP_test_roc = roc_auc_score(y_test,y_pred)\n",
        "MLP_train_roc = roc_auc_score(y_train,y_train_pred)\n",
        "MLP_test_accuracy\n",
        "\n"
      ]
    },
    {
      "cell_type": "code",
      "execution_count": 21,
      "metadata": {
        "colab": {
          "base_uri": "https://localhost:8080/"
        },
        "id": "ZQNdMu4wpajY",
        "outputId": "de73377d-c608-4bd7-d013-af453875162e"
      },
      "outputs": [
        {
          "name": "stdout",
          "output_type": "stream",
          "text": [
            "StandardScaler preprocessing\n",
            "                           Model  test_Acc  train_Accuracy  test_AUC_ROC  \\\n",
            "6     LinearDiscriminantAnalysis  0.727407        0.733976      0.682278   \n",
            "0            Logistic Regression  0.721481        0.735087      0.676749   \n",
            "8                 Neural Network  0.721481        0.737681      0.675904   \n",
            "2         Support Vector Machine  0.720000        0.751019      0.671352   \n",
            "3                  Random Forest  0.703704        1.000000      0.664388   \n",
            "5                    Naive Bayes  0.702222        0.705446      0.686881   \n",
            "4            K-Nearest Neighbors  0.678519        0.781030      0.635185   \n",
            "1                  Decision Tree  0.634074        1.000000      0.609353   \n",
            "7  QuadraticDiscriminantAnalysis  0.367407        0.380511      0.500000   \n",
            "\n",
            "   train_AUC_ROC  test_F1_Score  train_F1_Score  \n",
            "6       0.698706       0.798246        0.797632  \n",
            "0       0.700166       0.793407        0.798307  \n",
            "8       0.703762       0.793860        0.799774  \n",
            "2       0.708706       0.794342        0.815080  \n",
            "3       1.000000       0.776286        1.000000  \n",
            "5       0.693146       0.759857        0.757991  \n",
            "4       0.758470       0.758621        0.828347  \n",
            "1       1.000000       0.708383        1.000000  \n",
            "7       0.500000       0.000000        0.000000  \n"
          ]
        }
      ],
      "source": [
        "models_initial = pd.DataFrame({\n",
        "    'Model'         : ['Logistic Regression', 'Decision Tree', 'Support Vector Machine', 'Random Forest', 'K-Nearest Neighbors', 'Naive Bayes', 'LinearDiscriminantAnalysis', 'QuadraticDiscriminantAnalysis','Neural Network'],\n",
        "    'test_Acc'       : [LR_test_accuracy, dtree_test_accuracy, SVM_test_accuracy, RForest_test_accuracy, KNN_test_accuracy, bayes_test_accuracy, LDA_test_accuracy, QDA_test_accuracy,MLP_test_accuracy],\n",
        "    'train_Accuracy'       : [LR_train_accuracy, dtree_train_accuracy, SVM_train_accuracy, RForest_train_accuracy, KNN_train_accuracy, bayes_train_accuracy, LDA_train_accuracy, QDA_train_accuracy,MLP_train_accuracy],\n",
        "    'test_AUC_ROC'   : [LR_test_roc, dtree_test_roc, SVM_test_roc, RForest_test_roc, KNN_test_roc, bayes_test_roc, LDA_test_roc, QDA_test_roc,MLP_test_roc],\n",
        "    'train_AUC_ROC'        : [LR_train_roc, dtree_train_roc, SVM_train_roc, RForest_train_roc, KNN_train_roc, bayes_train_roc, LDA_train_roc, QDA_train_roc,MLP_train_roc],\n",
        "    'train_F1_Score'       : [LR_train_f1, dtree_train_f1, SVM_train_f1, RForest_train_f1, KNN_train_f1, bayes_train_f1, LDA_train_f1, QDA_train_f1,MLP_train_f1],\n",
        "    'test_F1_Score'  : [LR_test_f1, dtree_test_f1, SVM_test_f1, RForest_test_f1, KNN_test_f1, bayes_test_f1, LDA_test_f1, QDA_test_f1,MLP_test_f1]\n",
        "    \n",
        "    }, columns = ['Model', 'test_Acc', 'train_Accuracy', 'test_AUC_ROC', 'train_AUC_ROC','test_F1_Score', 'train_F1_Score'])\n",
        "print(\"StandardScaler preprocessing\")\n",
        "models_sorted=models_initial.sort_values(by='test_Acc', ascending=False)\n",
        "pd.set_option(\"display.max_rows\",None, \"display.max_columns\", None)\n",
        "print(models_sorted)\n"
      ]
    },
    {
      "cell_type": "code",
      "execution_count": null,
      "metadata": {
        "id": "giw1jv7qpeCZ"
      },
      "outputs": [],
      "source": []
    }
  ],
  "metadata": {
    "accelerator": "GPU",
    "colab": {
      "collapsed_sections": [],
      "name": "standard_scalar.ipynb",
      "provenance": []
    },
    "kernelspec": {
      "display_name": "Python 3",
      "name": "python3"
    },
    "language_info": {
      "codemirror_mode": {
        "name": "ipython",
        "version": 3
      },
      "file_extension": ".py",
      "mimetype": "text/x-python",
      "name": "python",
      "nbconvert_exporter": "python",
      "pygments_lexer": "ipython3",
      "version": "3.10.0"
    }
  },
  "nbformat": 4,
  "nbformat_minor": 0
}
