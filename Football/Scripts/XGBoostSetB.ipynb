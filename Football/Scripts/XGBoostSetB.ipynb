{
 "cells": [
  {
   "cell_type": "code",
   "execution_count": 43,
   "metadata": {
    "collapsed": true
   },
   "outputs": [],
   "source": [
    "'------------------------------------------------- Initial Setup -------------------------------------------------'\n",
    "\n",
    "%matplotlib inline\n",
    "import itertools\n",
    "import joblib\n",
    "import numpy as np\n",
    "import pandas as pd\n",
    "import seaborn as sns\n",
    "from scipy import interp\n",
    "from pprint import pprint\n",
    "from itertools import cycle\n",
    "import matplotlib.pyplot as plt\n",
    "from collections import OrderedDict\n",
    "from xgboost import XGBClassifier\n",
    "from TrainTestSplit import trainTestSplit\n",
    "from sklearn.metrics import roc_curve, auc\n",
    "from sklearn.metrics import confusion_matrix\n",
    "from sklearn.model_selection import GridSearchCV\n",
    "from sklearn.preprocessing import label_binarize, LabelEncoder\n",
    "from sklearn.model_selection import ShuffleSplit\n",
    "from sklearn.metrics import classification_report\n",
    "from sklearn.multiclass import OneVsRestClassifier\n",
    "from sklearn.model_selection import learning_curve\n",
    "from sklearn.model_selection import cross_val_score\n",
    "\n",
    "# Set the random seed to a specific value (e.g., 42)\n",
    "np.random.seed(42)\n",
    "\n",
    "np.set_printoptions(precision = 2)"
   ]
  },
  {
   "cell_type": "code",
   "execution_count": 44,
   "metadata": {
    "collapsed": true
   },
   "outputs": [],
   "source": [
    "## Loading in the data of Set A.\n",
    "XTrain, XTest, YTrain, YTest = trainTestSplit(\"B\")"
   ]
  },
  {
   "cell_type": "code",
   "execution_count": 45,
   "metadata": {
    "collapsed": false
   },
   "outputs": [
    {
     "name": "stdout",
     "output_type": "stream",
     "text": [
      "Cross Validation Score :  0.4810606060606061\n",
      "Training Accuracy :  0.9720877242950726\n",
      "Testing Accuracy :  0.5046875\n"
     ]
    }
   ],
   "source": [
    "## Setting the classifier to be Vanilla XGBoostClassifier.\n",
    "Classifier = XGBClassifier()\n",
    "\n",
    "## Defining a list to store the Cross-Validation Scores.\n",
    "crossValidationScores = []\n",
    "\n",
    "# Initialize LabelEncoder\n",
    "label_encoder = LabelEncoder()\n",
    "\n",
    "# Encode the target variable\n",
    "YTrain_encoded = label_encoder.fit_transform(YTrain['FTR'])\n",
    "YTest_encoded = label_encoder.fit_transform(YTest['FTR'])\n",
    "\n",
    "# Convert NumPy array to pandas DataFrame\n",
    "YTrain_encoded_df = pd.DataFrame({'E_FTR': YTrain_encoded})\n",
    "YTest_encoded_df = pd.DataFrame({'E_FTR': YTest_encoded})\n",
    "\n",
    "## Computing the 10-fold cross-validation score.\n",
    "cvScore = cross_val_score(Classifier, XTrain, YTrain_encoded_df['E_FTR'], cv = 10)\n",
    "crossValidationScores.append(np.mean(cvScore))\n",
    "print (\"Cross Validation Score : \", np.mean(crossValidationScores))\n",
    "\n",
    "## Computing the Training and Testing Accuracies.\n",
    "Classifier.fit(XTrain,YTrain_encoded_df)\n",
    "print (\"Training Accuracy : \", Classifier.score(XTrain, YTrain_encoded_df))\n",
    "print (\"Testing Accuracy : \", Classifier.score(XTest, YTest_encoded_df))"
   ]
  },
  {
   "cell_type": "code",
   "execution_count": 46,
   "metadata": {
    "collapsed": true
   },
   "outputs": [
    {
     "data": {
      "text/plain": [
       "\"\\n\\nparameters = { 'max_depth' : [3, 5],\\n               'gamma' : [0.01, 0.02],\\n               'learning_rate' : [0.01, 0.025],\\n               'reg_lambda' : [0.01, 0.025]\\n              }\\n\\n## Defining the hyperparameter space for searching the optimum set of hyperparameter values .\\n\\n\""
      ]
     },
     "execution_count": 46,
     "metadata": {},
     "output_type": "execute_result"
    }
   ],
   "source": [
    "## Defining the hyperparameter space for searching the optimum set of hyperparameter values .\n",
    "\n",
    "parameters = { 'max_depth' : [3, 5, 6, 9, 12, 15, 17, 25],\n",
    "               'gamma' : [0.01, 0.02, 0.03, 0.04, 0.05, 0.1, 0.2, 0.5],\n",
    "               'learning_rate' : [0.01, 0.025, 0.05, 0.1],\n",
    "               'reg_lambda' : [0.01, 0.025, 0.075, 0.1, 0.2, 0.6, 1.0, 0.05]\n",
    "              }\n",
    "\n",
    "'''\n",
    "\n",
    "parameters = { 'max_depth' : [3, 5],\n",
    "               'gamma' : [0.01, 0.02],\n",
    "               'learning_rate' : [0.01, 0.025],\n",
    "               'reg_lambda' : [0.01, 0.025]\n",
    "              }\n",
    "\n",
    "## Defining the hyperparameter space for searching the optimum set of hyperparameter values .\n",
    "\n",
    "'''"
   ]
  },
  {
   "cell_type": "code",
   "execution_count": 47,
   "metadata": {
    "collapsed": true
   },
   "outputs": [],
   "source": [
    "# Loading the already tuned model with the above set of hyperparameters.\n",
    "#Clf = joblib.load('../GridSearchObjects/XGBSetB.pkl')"
   ]
  },
  {
   "cell_type": "code",
   "execution_count": 48,
   "metadata": {
    "collapsed": false
   },
   "outputs": [
    {
     "name": "stdout",
     "output_type": "stream",
     "text": [
      "Fitting 5 folds for each of 2048 candidates, totalling 10240 fits\n"
     ]
    },
    {
     "data": {
      "text/plain": [
       "['..\\\\GridSearchObjects\\\\XGBSetB.pkl']"
      ]
     },
     "execution_count": 48,
     "metadata": {},
     "output_type": "execute_result"
    }
   ],
   "source": [
    "# # Uncomment this block if you want to run the grid search yourself.\n",
    "# # Note : This is going to be computationally very expensive on your CPU !\n",
    "\n",
    "Clf1 = GridSearchCV(Classifier, parameters, n_jobs = 5, verbose = 4, scoring = 'accuracy')\n",
    "\n",
    "# ## Fitting the Model to the Training Data.\n",
    "Clf1.fit(XTrain, YTrain_encoded_df.values.ravel())\n",
    "\n",
    "# # Saving the grid search object.\n",
    "joblib.dump(Clf1, '..\\GridSearchObjects\\XGBSetB.pkl')"
   ]
  },
  {
   "cell_type": "code",
   "execution_count": 49,
   "metadata": {
    "collapsed": false
   },
   "outputs": [
    {
     "name": "stdout",
     "output_type": "stream",
     "text": [
      "0.5368866842551053\n",
      "XGBClassifier(base_score=None, booster=None, callbacks=None,\n",
      "              colsample_bylevel=None, colsample_bynode=None,\n",
      "              colsample_bytree=None, device=None, early_stopping_rounds=None,\n",
      "              enable_categorical=False, eval_metric=None, feature_types=None,\n",
      "              gamma=0.01, grow_policy=None, importance_type=None,\n",
      "              interaction_constraints=None, learning_rate=0.025, max_bin=None,\n",
      "              max_cat_threshold=None, max_cat_to_onehot=None,\n",
      "              max_delta_step=None, max_depth=3, max_leaves=None,\n",
      "              min_child_weight=None, missing=nan, monotone_constraints=None,\n",
      "              multi_strategy=None, n_estimators=None, n_jobs=None,\n",
      "              num_parallel_tree=None, objective='multi:softprob', ...)\n"
     ]
    }
   ],
   "source": [
    "## Printing the statistics after hyper-parameter tuning.\n",
    "print (Clf1.best_score_)\n",
    "print (Clf1.best_estimator_)"
   ]
  },
  {
   "cell_type": "code",
   "execution_count": 50,
   "metadata": {
    "collapsed": false
   },
   "outputs": [
    {
     "name": "stdout",
     "output_type": "stream",
     "text": [
      "Cross Validation Score :  0.5331819800569801\n",
      "Training Accuracy :  0.5528339504414697\n",
      "Testing Accuracy :  0.5765625\n"
     ]
    }
   ],
   "source": [
    "## Setting the classifier to be the hyperparameter tuned Random Forest Classifier.\n",
    "Classifier = Clf1.best_estimator_\n",
    "\n",
    "## Defining a list to store the Cross-Validation Scores.\n",
    "crossValidationScores = []\n",
    "\n",
    "## Computing the 10-fold cross-validation score.\n",
    "cvScore = cross_val_score(Classifier, XTrain, YTrain_encoded_df['E_FTR'], cv = 10)\n",
    "crossValidationScores.append(np.mean(cvScore))\n",
    "print (\"Cross Validation Score : \", np.mean(crossValidationScores))\n",
    "\n",
    "## Computing the Training and Testing Accuracies.\n",
    "Classifier.fit(XTrain,YTrain_encoded_df)\n",
    "print (\"Training Accuracy : \", Classifier.score(XTrain, YTrain_encoded_df))\n",
    "print (\"Testing Accuracy : \", Classifier.score(XTest, YTest_encoded_df))"
   ]
  },
  {
   "cell_type": "code",
   "execution_count": 51,
   "metadata": {
    "collapsed": false
   },
   "outputs": [],
   "source": [
    "## Obtaining our predictions made by the best Gaussian Naive Bayes Classifier .\n",
    "YPred = Classifier.predict(XTest)\n",
    "\n",
    "## Defining the target classes .\n",
    "classLabels = ['0','1','2']\n",
    "\n",
    "## Obtaining the confusion matrix for our predictions .\n",
    "confusionMatrix = confusion_matrix(y_true= YTest_encoded_df['E_FTR'], y_pred=YPred, labels=classLabels)"
   ]
  },
  {
   "cell_type": "code",
   "execution_count": 52,
   "metadata": {
    "collapsed": false
   },
   "outputs": [
    {
     "name": "stdout",
     "output_type": "stream",
     "text": [
      "              precision    recall  f1-score   support\n",
      "\n",
      "           0       0.57      0.55      0.56       174\n",
      "           1       0.20      0.01      0.01       158\n",
      "           2       0.58      0.88      0.70       308\n",
      "\n",
      "   micro avg       0.58      0.58      0.58       640\n",
      "   macro avg       0.45      0.48      0.43       640\n",
      "weighted avg       0.49      0.58      0.49       640\n",
      "\n"
     ]
    }
   ],
   "source": [
    "## Obtaining a more readable format of our Confusion Matrix in terms of a Classification Report . \n",
    "\n",
    "classificationReport = classification_report(y_true=YTest_encoded_df, y_pred=YPred, labels=classLabels)\n",
    "print (classificationReport)"
   ]
  },
  {
   "cell_type": "code",
   "execution_count": 53,
   "metadata": {
    "collapsed": false
   },
   "outputs": [
    {
     "data": {
      "text/plain": [
       "<Axes: xlabel='learningRate', ylabel='gamma'>"
      ]
     },
     "execution_count": 53,
     "metadata": {},
     "output_type": "execute_result"
    },
    {
     "data": {
      "image/png": "[encoded data removed]",
      "text/plain": [
       "<Figure size 640x480 with 2 Axes>"
      ]
     },
     "metadata": {},
     "output_type": "display_data"
    }
   ],
   "source": [
    "gridScores = Clf1.cv_results_\n",
    "\n",
    "gridScoresList = []\n",
    "\n",
    "for i in range(0, len(gridScores['params'])):\n",
    "\n",
    "    Score = (gridScores['mean_test_score'][i],)\n",
    "\n",
    "    learningRate = (gridScores['params'][i]['learning_rate'],)\n",
    "    gamma = (gridScores['params'][i]['gamma'],)\n",
    "\n",
    "    Tuple = Score + learningRate + gamma\n",
    "    gridScoresList.append(Tuple)\n",
    "    \n",
    "df = pd.DataFrame(gridScoresList, columns = ['Validation Score', 'learningRate', 'gamma'])\n",
    "\n",
    "df = df.drop_duplicates(subset = ['learningRate', 'gamma'])\n",
    "## df = df[np.isfinite(df['maxDepth'])]\n",
    "\n",
    "gridMap = df.pivot(index = \"gamma\", columns=\"learningRate\", values =\"Validation Score\")\n",
    "\n",
    "sns.heatmap(gridMap, cmap = \"RdPu\")"
   ]
  },
  {
   "cell_type": "code",
   "execution_count": 54,
   "metadata": {
    "collapsed": false
   },
   "outputs": [
    {
     "data": {
      "text/plain": [
       "<Axes: xlabel='maxDepth', ylabel='regLambda'>"
      ]
     },
     "execution_count": 54,
     "metadata": {},
     "output_type": "execute_result"
    },
    {
     "data": {
      "image/png": "[encoded data removed]",
      "text/plain": [
       "<Figure size 640x480 with 2 Axes>"
      ]
     },
     "metadata": {},
     "output_type": "display_data"
    }
   ],
   "source": [
    "gridScores = Clf1.cv_results_\n",
    "\n",
    "gridScoresList = []\n",
    "\n",
    "for i in range(0, len(gridScores['params'])):\n",
    "\n",
    "    Score = (gridScores['mean_test_score'][i],)\n",
    "    regLambda = (gridScores['params'][i]['reg_lambda'],)\n",
    "    maxDepth = (gridScores['params'][i]['max_depth'],)\n",
    "\n",
    "    Tuple = Score + regLambda + maxDepth\n",
    "    gridScoresList.append(Tuple)\n",
    "    \n",
    "df = pd.DataFrame(gridScoresList, columns = ['Validation Score', 'regLambda', 'maxDepth'])\n",
    "df = df.drop_duplicates(subset = ['regLambda', 'maxDepth'])\n",
    "\n",
    "gridMap = df.pivot(index = \"regLambda\", columns= \"maxDepth\", values=\"Validation Score\")\n",
    "sns.heatmap(gridMap, cmap = \"viridis_r\")"
   ]
  }
 ],
 "metadata": {
  "kernelspec": {
   "display_name": "Python 3",
   "language": "python",
   "name": "python3"
  },
  "language_info": {
   "codemirror_mode": {
    "name": "ipython",
    "version": 3
   },
   "file_extension": ".py",
   "mimetype": "text/x-python",
   "name": "python",
   "nbconvert_exporter": "python",
   "pygments_lexer": "ipython3",
   "version": "3.11.3"
  }
 },
 "nbformat": 4,
 "nbformat_minor": 1
}
