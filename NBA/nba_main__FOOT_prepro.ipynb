{
 "cells": [
  {
   "cell_type": "code",
   "execution_count": 17,
   "metadata": {},
   "outputs": [],
   "source": [
    "import pandas as pd\n",
    "from sklearn.model_selection import train_test_split\n",
    "from sklearn import preprocessing\n",
    "\n",
    "from sklearn.model_selection import GridSearchCV\n",
    "from sklearn.tree import DecisionTreeClassifier\n",
    "from sklearn.neighbors import KNeighborsClassifier\n",
    "from sklearn.naive_bayes import GaussianNB\n",
    "from sklearn.svm import SVC\n",
    "\n",
    "from sklearn.metrics import f1_score, accuracy_score, roc_auc_score"
   ]
  },
  {
   "cell_type": "code",
   "execution_count": 18,
   "metadata": {},
   "outputs": [],
   "source": [
    "df = pd.read_csv(\"../Data/foot.csv\")"
   ]
  },
  {
   "cell_type": "code",
   "execution_count": 19,
   "metadata": {},
   "outputs": [
    {
     "name": "stderr",
     "output_type": "stream",
     "text": [
      "C:\\Users\\User\\AppData\\Local\\Temp\\ipykernel_19884\\1565405666.py:10: SettingWithCopyWarning: \n",
      "A value is trying to be set on a copy of a slice from a DataFrame.\n",
      "Try using .loc[row_indexer,col_indexer] = value instead\n",
      "\n",
      "See the caveats in the documentation: https://pandas.pydata.org/pandas-docs/stable/user_guide/indexing.html#returning-a-view-versus-a-copy\n",
      "  df_new[\"result\"] = df_new['FTR'].apply(map_result)\n"
     ]
    }
   ],
   "source": [
    "def map_result(result):\n",
    "    if result == 'A':\n",
    "        return 0\n",
    "    else :\n",
    "        return 1\n",
    "\n",
    "\n",
    "\n",
    "df_new = df[df[\"FTR\"] != \"D\"]\n",
    "df_new[\"result\"] = df_new['FTR'].apply(map_result)\n"
   ]
  },
  {
   "cell_type": "code",
   "execution_count": 20,
   "metadata": {},
   "outputs": [],
   "source": [
    "## Creating a list of betting odds column fields.\n",
    "bettingStats = [\"B365H\",\"B365D\",\"B365A\",\"BWH\",\"BWD\",\"BWA\",\"GBH\",\"GBD\",\"GBA\",\"IWH\",\"IWD\",\"IWA\",\"LBH\",\"LBD\",\"LBA\",\"SBH\",\"SBD\",\"SBA\",\"WHH\",\"WHD\",\"WHA\",\"SJH\",\"SJD\",\"SJA\",\"VCH\",\"VCD\",\"VCA\",\"Bb1X2\",\"BbMxH\",\"BbAvH\",\"BbMxD\",\"BbAvD\",\"BbMxA\",\"BbAvA\",\"BbOU\",\"BbMx>2.5\",\"BbAv>2.5\",\"BbMx<2.5\",\"BbAv<2.5\",\"BbAH\",\"BbAHh\",\"BbMxAHH\",\"BbAvAHH\",\"BbMxAHA\",\"BbAvAHA\"]\n",
    "bettingStatsEx = [\"BSH\", \"BSD\", \"BSA\", \"PSA\", \"PSH\", \"PSD\", \"PSCA\", \"PSCD\", \"PSCH\"]\n",
    "\n",
    "## Creating a list of general unnecesaary column fields.\n",
    "genDropInfo = [\"Div\", \"Date\", \"HomeTeam\", \"AwayTeam\", \"Referee\"]\n",
    "\n",
    "## Creating a list of unnecessary pre-existing feature columns.\n",
    "preDropFeatures = [\"FTHG\", \"FTAG\", \"HTHG\", \"HTAG\", \"HS\", \"AS\", \"HST\", \"AST\", \"HTR\", \"HS\", \"AS\", \"HF\", \"AF\", \"HY\", \"AY\", \"HR\", \"AR\", \"HC\", \"AC\", \"MHTGD\", \"MATGD\"]\n",
    "\n",
    "old_result = [\"FTR\"]\n"
   ]
  },
  {
   "cell_type": "code",
   "execution_count": 21,
   "metadata": {},
   "outputs": [
    {
     "name": "stdout",
     "output_type": "stream",
     "text": [
      "3108\n"
     ]
    },
    {
     "name": "stderr",
     "output_type": "stream",
     "text": [
      "C:\\Users\\User\\AppData\\Local\\Temp\\ipykernel_19884\\3245000978.py:11: SettingWithCopyWarning: \n",
      "A value is trying to be set on a copy of a slice from a DataFrame\n",
      "\n",
      "See the caveats in the documentation: https://pandas.pydata.org/pandas-docs/stable/user_guide/indexing.html#returning-a-view-versus-a-copy\n",
      "  df_new.drop(bettingStats + bettingStatsEx + genDropInfo + preDropFeatures + old_result, axis = 1, inplace = True)\n"
     ]
    }
   ],
   "source": [
    "# df_new = df_new.drop([\"AwayTeam\",\"HomeTeam\",'FTR','Date',\"Div\",\n",
    "#                   \"HTR\",\"Referee\",\"Season\"], axis=1)\n",
    "\n",
    "# # drop value with lot of None value\n",
    "# df_new = df_new.drop([\"BSA\",\"BSD\",\"BSH\",\n",
    "#                       \"PSA\",\"PSCA\",\n",
    "#                       \"PSCD\",\"PSCH\",\"PSD\",\"PSH\",\n",
    "#                       \"SBA\",\"SBD\",\"SBH\",\"SJA\",\"SJD\",\"SJH\"], axis=1)\n",
    "\n",
    "## Dropping the above coloumns .\n",
    "df_new.drop(bettingStats + bettingStatsEx + genDropInfo + preDropFeatures + old_result, axis = 1, inplace = True)\n",
    "# df_new = df_new.drop([\"AR \",\"AS\", \"AST\", \"AY\"])\n",
    "\n",
    "\n",
    "df_new = df_new.dropna(subset=df_new.columns)\n",
    "print(len(df_new))"
   ]
  },
  {
   "cell_type": "code",
   "execution_count": 22,
   "metadata": {},
   "outputs": [
    {
     "name": "stderr",
     "output_type": "stream",
     "text": [
      "C:\\Users\\User\\AppData\\Local\\Temp\\ipykernel_19884\\156534692.py:10: SettingWithCopyWarning: \n",
      "A value is trying to be set on a copy of a slice from a DataFrame\n",
      "\n",
      "See the caveats in the documentation: https://pandas.pydata.org/pandas-docs/stable/user_guide/indexing.html#returning-a-view-versus-a-copy\n",
      "  y_train.drop(['Season'], axis = 1, inplace = True)\n",
      "C:\\Users\\User\\AppData\\Local\\Temp\\ipykernel_19884\\156534692.py:11: SettingWithCopyWarning: \n",
      "A value is trying to be set on a copy of a slice from a DataFrame\n",
      "\n",
      "See the caveats in the documentation: https://pandas.pydata.org/pandas-docs/stable/user_guide/indexing.html#returning-a-view-versus-a-copy\n",
      "  y_test.drop(['Season'], axis = 1, inplace = True)\n"
     ]
    }
   ],
   "source": [
    "## For our \"Target Variable\" , we need the match outcomes which is the field \"FTR\" (Full Time Result) .\n",
    "## So , we will create a slice of this coloumn as well as \"Season\" (for indexing purposes) .\n",
    "Y = df_new[['result','Season']]\n",
    "\n",
    "## Now , we will choose the first 11 seasons as our Training Set and the final 2 as Testing Set .\n",
    "y_train = Y[ (Y['Season'] == '2005-2006') | (Y['Season'] == '2006-2007') | (Y['Season'] == '2007-2008') | (Y['Season'] == '2008-2009') | (Y['Season'] == '2009-2010') | (Y['Season'] == '2010-2011') | (Y['Season'] == '2011-2012') | (Y['Season'] == '2012-2013') | (Y['Season'] == '2013-2014') | (Y['Season'] == '2014-2015') | (Y['Season'] == '2015-2016')]         \n",
    "y_test = Y[ (Y['Season'] == '2016-2017') | (Y['Season'] == '2017-2018')]\n",
    "\n",
    "## Now , we dont need the \"Season\" coloumn so drop it .\n",
    "y_train.drop(['Season'], axis = 1, inplace = True)\n",
    "y_test.drop(['Season'], axis = 1, inplace = True)"
   ]
  },
  {
   "cell_type": "code",
   "execution_count": 23,
   "metadata": {},
   "outputs": [
    {
     "name": "stderr",
     "output_type": "stream",
     "text": [
      "C:\\Users\\User\\AppData\\Local\\Temp\\ipykernel_19884\\2217996624.py:10: SettingWithCopyWarning: \n",
      "A value is trying to be set on a copy of a slice from a DataFrame\n",
      "\n",
      "See the caveats in the documentation: https://pandas.pydata.org/pandas-docs/stable/user_guide/indexing.html#returning-a-view-versus-a-copy\n",
      "  X_train.drop(['Season'], axis = 1, inplace = True)\n",
      "C:\\Users\\User\\AppData\\Local\\Temp\\ipykernel_19884\\2217996624.py:11: SettingWithCopyWarning: \n",
      "A value is trying to be set on a copy of a slice from a DataFrame\n",
      "\n",
      "See the caveats in the documentation: https://pandas.pydata.org/pandas-docs/stable/user_guide/indexing.html#returning-a-view-versus-a-copy\n",
      "  X_test.drop(['Season'], axis = 1, inplace = True)\n"
     ]
    }
   ],
   "source": [
    "## Now, for creating the feature set, we first need to remove the target variable from the DataFrame .\n",
    "X = df_new\n",
    "X.drop(['result'], axis = 1, inplace = True)\n",
    "\n",
    "## Now , we will choose the first 11 seasons as our Training Set and the final 2 as Testing Set .\n",
    "X_train = X[ (X['Season'] == '2005-2006') | (X['Season'] == '2006-2007') | (X['Season'] == '2007-2008') | (X['Season'] == '2008-2009') | (X['Season'] == '2009-2010') | (X['Season'] == '2010-2011') | (X['Season'] == '2011-2012') | (X['Season'] == '2012-2013') | (X['Season'] == '2013-2014') | (X['Season'] == '2014-2015') | (X['Season'] == '2015-2016')] \n",
    "X_test = X[ (X['Season'] == '2016-2017') | (X['Season'] == '2017-2018')]\n",
    "\n",
    "## Now , we dont need the \"Season\" coloumn so drop it .\n",
    "X_train.drop(['Season'], axis = 1, inplace = True)\n",
    "X_test.drop(['Season'], axis = 1, inplace = True)\n"
   ]
  },
  {
   "cell_type": "code",
   "execution_count": 24,
   "metadata": {},
   "outputs": [],
   "source": [
    "scaler = preprocessing.StandardScaler()\n",
    "scaler.fit(X_train)\n",
    "scaled_X_train = scaler.transform(X_train)\n",
    "scaled_X_test = scaler.transform(X_test)\n",
    "\n",
    "\n",
    "scaled_X_train = pd.DataFrame(data=scaled_X_train, columns=X_train.columns)\n",
    "scaled_X_test = pd.DataFrame(data=scaled_X_test, columns=X_test.columns)"
   ]
  },
  {
   "cell_type": "markdown",
   "metadata": {},
   "source": [
    "# decision trees\n"
   ]
  },
  {
   "cell_type": "code",
   "execution_count": 25,
   "metadata": {},
   "outputs": [],
   "source": [
    "# # Define the decision tree classifier\n",
    "\n",
    "# dt_classifier = DecisionTreeClassifier()\n",
    "\n",
    "# # Define the grid search parameters\n",
    "# param_grid = {\n",
    "#     'criterion': ['gini', 'entropy'],\n",
    "#     'splitter': ['best', 'random'],\n",
    "#     'max_depth': [None, 5, 10, 15, 20],\n",
    "#     'min_samples_split': [2, 5, 10, 15],\n",
    "#     'min_samples_leaf': [1, 2, 4, 8],\n",
    "#     'max_features': ['auto', 'sqrt', 'log2', None],\n",
    "#     'class_weight': [None, 'balanced'],\n",
    "#     'min_impurity_decrease': [0.0, 0.1, 0.2, 0.3]\n",
    "# }\n",
    "\n",
    "# # Perform grid search with cross-validation\n",
    "# grid_search = GridSearchCV(estimator=dt_classifier, param_grid=param_grid, cv=5)\n",
    "# grid_search.fit(scaled_X_train, y_train)\n",
    "\n",
    "# # Get the best parameters and best score\n",
    "# best_params = grid_search.best_params_\n",
    "# best_score = grid_search.best_score_\n",
    "\n",
    "best_params =  {'class_weight': None, 'criterion': 'entropy', 'max_depth': 10, 'max_features': None, 'min_impurity_decrease': 0.0, 'min_samples_leaf': 2, 'min_samples_split': 5, 'splitter': 'random'}\n"
   ]
  },
  {
   "cell_type": "code",
   "execution_count": 26,
   "metadata": {},
   "outputs": [
    {
     "name": "stdout",
     "output_type": "stream",
     "text": [
      "Best Parameters: {'class_weight': None, 'criterion': 'entropy', 'max_depth': 10, 'max_features': None, 'min_impurity_decrease': 0.0, 'min_samples_leaf': 2, 'min_samples_split': 5, 'splitter': 'random'}\n",
      "Test Accuracy: 0.6639004149377593\n",
      "Test f1 score: 0.7428571428571429\n",
      "Test roc auc : 0.6321040372670808\n"
     ]
    }
   ],
   "source": [
    "# Train the model with the best parameters\n",
    "best_dt_classifier = DecisionTreeClassifier(**best_params)\n",
    "best_dt_classifier.fit(scaled_X_train, y_train)\n",
    "\n",
    "\n",
    "y_pred = best_dt_classifier.predict(scaled_X_test)\n",
    "\n",
    "\n",
    "test_accuracy = accuracy_score(y_pred,y_test)\n",
    "test_f1 = f1_score(y_pred, y_test)\n",
    "test_auc = roc_auc_score(y_pred,y_test)\n",
    "\n",
    "print(\"Best Parameters:\", best_params)\n",
    "# print(\"Best Score:\", best_score)\n",
    "print(\"Test Accuracy:\", test_accuracy)\n",
    "print(\"Test f1 score:\", test_f1)\n",
    "print(\"Test roc auc :\", test_auc)"
   ]
  },
  {
   "cell_type": "markdown",
   "metadata": {},
   "source": [
    "# k nearest neighbors\n"
   ]
  },
  {
   "cell_type": "code",
   "execution_count": 27,
   "metadata": {},
   "outputs": [],
   "source": [
    "# Define the K-Nearest Neighbors classifier\n",
    "\n",
    "# knn_classifier = KNeighborsClassifier()\n",
    "\n",
    "# # Define the grid search parameters\n",
    "# param_grid = {\n",
    "#     'n_neighbors': [3, 5, 7, 9, 11],  # Number of neighbors to consider\n",
    "#     'weights': ['uniform', 'distance'],  # Weight function used in prediction\n",
    "#     'algorithm': ['auto', 'ball_tree', 'kd_tree', 'brute'],  # Algorithm used to compute the nearest neighbors\n",
    "#     'leaf_size': [10, 20, 30, 40],  # Leaf size passed to BallTree or KDTree\n",
    "#     # 'p': [1, 2, 3],  # Power parameter for the Minkowski metric\n",
    "#     # 'metric': ['euclidean', 'manhattan', 'chebyshev']  # Distance metric to use for the tree\n",
    "# }\n",
    "\n",
    "# # Perform grid search with cross-validation\n",
    "# grid_search = GridSearchCV(estimator=knn_classifier, param_grid=param_grid, cv=5)\n",
    "# grid_search.fit(scaled_X_train, y_train)\n",
    "\n",
    "# # Get the best parameters and best score\n",
    "# best_params = grid_search.best_params_\n",
    "# best_score = grid_search.best_score_\n",
    "\n",
    "best_params = {'algorithm': 'auto', 'leaf_size': 10, 'n_neighbors': 11, 'weights': 'uniform'}"
   ]
  },
  {
   "cell_type": "code",
   "execution_count": 28,
   "metadata": {},
   "outputs": [
    {
     "name": "stdout",
     "output_type": "stream",
     "text": [
      "Best Parameters: {'algorithm': 'auto', 'leaf_size': 10, 'n_neighbors': 11, 'weights': 'uniform'}\n",
      "Test Accuracy: 0.7385892116182573\n",
      "Test f1 score: 0.8073394495412844\n",
      "Test roc auc : 0.7197381842910574\n"
     ]
    },
    {
     "name": "stderr",
     "output_type": "stream",
     "text": [
      "C:\\Users\\User\\AppData\\Roaming\\Python\\Python310\\site-packages\\sklearn\\neighbors\\_classification.py:233: DataConversionWarning: A column-vector y was passed when a 1d array was expected. Please change the shape of y to (n_samples,), for example using ravel().\n",
      "  return self._fit(X, y)\n"
     ]
    }
   ],
   "source": [
    "# Train the model with the best parameters\n",
    "best_knn_classifier = KNeighborsClassifier(**best_params)\n",
    "best_knn_classifier.fit(scaled_X_train, y_train)\n",
    "\n",
    "\n",
    "\n",
    "y_pred = best_knn_classifier.predict(scaled_X_test)\n",
    "\n",
    "\n",
    "test_accuracy = accuracy_score(y_pred,y_test)\n",
    "test_f1 = f1_score(y_pred, y_test)\n",
    "test_auc = roc_auc_score(y_pred,y_test)\n",
    "\n",
    "print(\"Best Parameters:\", best_params)\n",
    "# print(\"Best Score:\", best_score)\n",
    "print(\"Test Accuracy:\", test_accuracy)\n",
    "print(\"Test f1 score:\", test_f1)\n",
    "print(\"Test roc auc :\", test_auc)"
   ]
  },
  {
   "cell_type": "markdown",
   "metadata": {},
   "source": [
    "# Naive Bayes \n"
   ]
  },
  {
   "cell_type": "code",
   "execution_count": 29,
   "metadata": {},
   "outputs": [],
   "source": [
    "# # Define the Gaussian Naive Bayes classifier\n",
    "\n",
    "# nb_classifier = GaussianNB()\n",
    "\n",
    "# # Define the grid search parameters\n",
    "# param_grid = {\n",
    "#     'var_smoothing': [1e-9, 1e-8, 1e-7, 1e-6, 1e-5],\n",
    "#     'priors': [None, [0.5, 0.5], [0.3, 0.7], [0.7, 0.3]]  # Prior probabilities for each class\n",
    "# }\n",
    "\n",
    "# # Perform grid search with cross-validation\n",
    "# grid_search = GridSearchCV(estimator=nb_classifier, param_grid=param_grid, cv=5)\n",
    "# grid_search.fit(scaled_X_train, y_train)\n",
    "\n",
    "# # Get the best parameters and best score\n",
    "# best_params = grid_search.best_params_\n",
    "# best_score = grid_search.best_score_\n",
    "\n",
    "best_params = {'priors': None, 'var_smoothing': 1e-09}"
   ]
  },
  {
   "cell_type": "code",
   "execution_count": 30,
   "metadata": {},
   "outputs": [
    {
     "name": "stdout",
     "output_type": "stream",
     "text": [
      "Best Parameters: {'priors': None, 'var_smoothing': 1e-09}\n",
      "Test Accuracy: 0.7261410788381742\n",
      "Test f1 score: 0.7716262975778546\n",
      "Test roc auc : 0.7124912648497554\n"
     ]
    },
    {
     "name": "stderr",
     "output_type": "stream",
     "text": [
      "C:\\Users\\User\\AppData\\Roaming\\Python\\Python310\\site-packages\\sklearn\\utils\\validation.py:1183: DataConversionWarning: A column-vector y was passed when a 1d array was expected. Please change the shape of y to (n_samples, ), for example using ravel().\n",
      "  y = column_or_1d(y, warn=True)\n"
     ]
    }
   ],
   "source": [
    "# Train the model with the best parameters\n",
    "best_nb_classifier = GaussianNB(**best_params)\n",
    "best_nb_classifier.fit(scaled_X_train, y_train)\n",
    "\n",
    "y_pred = best_nb_classifier.predict(scaled_X_test)\n",
    "\n",
    "\n",
    "test_accuracy = accuracy_score(y_pred,y_test)\n",
    "test_f1 = f1_score(y_pred, y_test)\n",
    "test_auc = roc_auc_score(y_pred,y_test)\n",
    "\n",
    "print(\"Best Parameters:\", best_params)\n",
    "# print(\"Best Score:\", best_score)\n",
    "print(\"Test Accuracy:\", test_accuracy)\n",
    "print(\"Test f1 score:\", test_f1)\n",
    "print(\"Test roc auc :\", test_auc)"
   ]
  },
  {
   "cell_type": "markdown",
   "metadata": {},
   "source": [
    "# support vector machines"
   ]
  },
  {
   "cell_type": "code",
   "execution_count": 31,
   "metadata": {},
   "outputs": [],
   "source": [
    "# # Define the Support Vector Machine classifier\n",
    "\n",
    "# svm_classifier = SVC()\n",
    "\n",
    "# # Define the grid search parameters\n",
    "# param_grid = {\n",
    "#     'C': [0.1, 1, 10, 100],\n",
    "#     'kernel': ['linear', 'poly', 'rbf', 'sigmoid'],\n",
    "#     # 'degree': [2, 3, 4],  # Only for polynomial kernel\n",
    "#     # 'gamma': ['scale', 'auto', 0.1, 1, 10]  # 'scale' and 'auto' are default, adding more values for gamma\n",
    "# }\n",
    "\n",
    "# # Perform grid search with cross-validation\n",
    "# grid_search = GridSearchCV(estimator=svm_classifier, param_grid=param_grid, cv=5)\n",
    "# grid_search.fit(scaled_X_train, y_train)\n",
    "\n",
    "# # Get the best parameters and best score\n",
    "# best_params = grid_search.best_params_\n",
    "# best_score = grid_search.best_score_\n",
    "\n",
    "best_params = {'C': 10, 'kernel': 'poly'}"
   ]
  },
  {
   "cell_type": "code",
   "execution_count": 32,
   "metadata": {},
   "outputs": [
    {
     "name": "stderr",
     "output_type": "stream",
     "text": [
      "C:\\Users\\User\\AppData\\Roaming\\Python\\Python310\\site-packages\\sklearn\\utils\\validation.py:1183: DataConversionWarning: A column-vector y was passed when a 1d array was expected. Please change the shape of y to (n_samples, ), for example using ravel().\n",
      "  y = column_or_1d(y, warn=True)\n"
     ]
    },
    {
     "name": "stdout",
     "output_type": "stream",
     "text": [
      "Best Parameters: {'C': 10, 'kernel': 'poly'}\n",
      "Test Accuracy: 0.6825726141078838\n",
      "Test f1 score: 0.7726597325408618\n",
      "Test roc auc : 0.6510361784334388\n"
     ]
    }
   ],
   "source": [
    "# Train the model with the best parameters\n",
    "\n",
    "\n",
    "\n",
    "\n",
    "\n",
    "\n",
    "best_svm_classifier = SVC(**best_params)\n",
    "best_svm_classifier.fit(scaled_X_train, y_train)\n",
    "\n",
    "# Evaluate the model on the test set\n",
    "\n",
    "y_pred = best_svm_classifier.predict(scaled_X_test)\n",
    "\n",
    "\n",
    "test_accuracy = accuracy_score(y_pred,y_test)\n",
    "test_f1 = f1_score(y_pred, y_test)\n",
    "test_auc = roc_auc_score(y_pred,y_test)\n",
    "\n",
    "print(\"Best Parameters:\", best_params)\n",
    "# print(\"Best Score:\", best_score)\n",
    "print(\"Test Accuracy:\", test_accuracy)\n",
    "print(\"Test f1 score:\", test_f1)\n",
    "print(\"Test roc auc :\", test_auc)"
   ]
  }
 ],
 "metadata": {
  "kernelspec": {
   "display_name": "Python 3",
   "language": "python",
   "name": "python3"
  },
  "language_info": {
   "codemirror_mode": {
    "name": "ipython",
    "version": 3
   },
   "file_extension": ".py",
   "mimetype": "text/x-python",
   "name": "python",
   "nbconvert_exporter": "python",
   "pygments_lexer": "ipython3",
   "version": "3.10.0"
  }
 },
 "nbformat": 4,
 "nbformat_minor": 2
}
